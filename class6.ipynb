{
 "cells": [
  {
   "cell_type": "code",
   "execution_count": 9,
   "metadata": {},
   "outputs": [
    {
     "name": "stdout",
     "output_type": "stream",
     "text": [
      " * sqlite://\n",
      "Done.\n",
      "Done.\n",
      "Done.\n",
      "Done.\n",
      "1 rows affected.\n",
      "1 rows affected.\n",
      "1 rows affected.\n",
      "Done.\n",
      "1 rows affected.\n",
      "1 rows affected.\n",
      "1 rows affected.\n",
      "1 rows affected.\n"
     ]
    },
    {
     "data": {
      "text/plain": [
       "[]"
      ]
     },
     "execution_count": 9,
     "metadata": {},
     "output_type": "execute_result"
    }
   ],
   "source": [
    "%load_ext sql\n",
    "%sql sqlite://\n",
    "\n",
    "\n",
    "\n"
   ]
  },
  {
   "cell_type": "code",
   "execution_count": null,
   "metadata": {},
   "outputs": [],
   "source": [
    "%%sql\n",
    "pragma foreign_keys = ON; -- WARNING: by default off in sqlite\n",
    "drop table if exists product; -- This needs to be dropped if exists, see why further down!\n",
    "drop table if exists company;\n",
    "create table company (\n",
    "    cname varchar primary key, -- company name uniquely identifies the company.\n",
    "    stockprice money, -- stock price is in money \n",
    "    country varchar); -- country is just a string\n",
    "insert into company values ('GizmoWorks', 25.0, 'USA');\n",
    "insert into company values ('Canon', 65.0, 'Japan');\n",
    "insert into company values ('Hitachi', 15.0, 'Japan');\n",
    "create table product(\n",
    "       pname varchar primary key, -- name of the product\n",
    "       price money, -- price of the product\n",
    "       category varchar, -- category\n",
    "       manufacturer varchar, -- manufacturer\n",
    "       foreign key (manufacturer) references company(cname));\n",
    "insert into product values('Gizmo', 19.99, 'Gadgets', 'GizmoWorks');\n",
    "insert into product values('SingleTouch', 149.99, 'Photography', 'Canon');\n",
    "insert into product values('PowerGizmo', 29.99, 'Gadgets', 'GizmoWorks');\n",
    "insert into product values('MultiTouch', 203.99, 'Household', 'Hitachi');\n"
   ]
  },
  {
   "cell_type": "code",
   "execution_count": 10,
   "metadata": {},
   "outputs": [
    {
     "name": "stdout",
     "output_type": "stream",
     "text": [
      " * sqlite://\n",
      "Done.\n",
      "Done.\n",
      "1 rows affected.\n",
      "1 rows affected.\n",
      "1 rows affected.\n",
      "Done.\n",
      "Done.\n",
      "1 rows affected.\n",
      "1 rows affected.\n",
      "1 rows affected.\n",
      "1 rows affected.\n",
      "1 rows affected.\n",
      "Done.\n",
      "Done.\n",
      "1 rows affected.\n",
      "1 rows affected.\n",
      "1 rows affected.\n",
      "1 rows affected.\n",
      "1 rows affected.\n",
      "1 rows affected.\n",
      "Done.\n",
      "Done.\n",
      "1 rows affected.\n",
      "1 rows affected.\n",
      "1 rows affected.\n",
      "1 rows affected.\n",
      "1 rows affected.\n",
      "1 rows affected.\n"
     ]
    },
    {
     "data": {
      "text/plain": [
       "[]"
      ]
     },
     "execution_count": 10,
     "metadata": {},
     "output_type": "execute_result"
    }
   ],
   "source": [
    "%%sql\n",
    "DROP TABLE IF EXISTS franchise;\n",
    "CREATE TABLE franchise (name TEXT, db_type TEXT);\n",
    "INSERT INTO franchise VALUES ('Bobs Bagels', 'NoSQL');\n",
    "INSERT INTO franchise VALUES ('eBagel', 'NoSQL');\n",
    "INSERT INTO franchise VALUES ('BAGEL CORP', 'MySQL');\n",
    "\n",
    "DROP TABLE IF EXISTS store;\n",
    "CREATE TABLE store (franchise TEXT, location TEXT);\n",
    "INSERT INTO store VALUES ('Bobs Bagels', 'NYC');\n",
    "INSERT INTO store VALUES ('eBagel', 'PA');\n",
    "INSERT INTO store VALUES ('BAGEL CORP', 'Chicago');\n",
    "INSERT INTO store VALUES ('BAGEL CORP', 'NYC');\n",
    "INSERT INTO store VALUES ('BAGEL CORP', 'PA');\n",
    "\n",
    "DROP TABLE IF EXISTS bagel;\n",
    "CREATE TABLE bagel (name TEXT, price MONEY, made_by TEXT);\n",
    "INSERT INTO bagel VALUES ('Plain with shmear', 1.99, 'Bobs Bagels');\n",
    "INSERT INTO bagel VALUES ('Egg with shmear', 2.39, 'Bobs Bagels');\n",
    "INSERT INTO bagel VALUES ('eBagel Drinkable Bagel', 27.99, 'eBagel');\n",
    "INSERT INTO bagel VALUES ('eBagel Expansion Pack', 1.99, 'eBagel');\n",
    "INSERT INTO bagel VALUES ('Plain with shmear', 0.99, 'BAGEL CORP');\n",
    "INSERT INTO bagel VALUES ('Organic Flax-seed bagel chips', 0.99, 'BAGEL CORP');\n",
    "\n",
    "DROP TABLE IF EXISTS purchase;\n",
    "-- Note that date is an int here just to simplify things\n",
    "CREATE TABLE purchase (bagel_name TEXT, franchise TEXT, date INT, quantity INT, purchaser_age INT);\n",
    "INSERT INTO purchase VALUES ('Plain with shmear', 'Bobs Bagels', 1, 12, 28);\n",
    "INSERT INTO purchase VALUES ('Egg with shmear', 'Bobs Bagels', 2, 6, 47);\n",
    "INSERT INTO purchase VALUES ('Plain with shmear', 'BAGEL CORP', 2, 12, 24);\n",
    "INSERT INTO purchase VALUES ('Plain with shmear', 'BAGEL CORP', 3, 1, 17);\n",
    "INSERT INTO purchase VALUES ('eBagel Expansion Pack', 'eBagel', 1, 137, 5);\n",
    "INSERT INTO purchase VALUES ('Plain with shmear', 'Bobs Bagels', 4, 24, NULL);"
   ]
  },
  {
   "cell_type": "code",
   "execution_count": null,
   "metadata": {},
   "outputs": [],
   "source": [
    "%sql SELECT * FROM Product;"
   ]
  },
  {
   "cell_type": "code",
   "execution_count": null,
   "metadata": {},
   "outputs": [],
   "source": [
    "%%sql SELECT pname,price FROM Product\n",
    "ORDER BY pname"
   ]
  },
  {
   "cell_type": "code",
   "execution_count": null,
   "metadata": {},
   "outputs": [],
   "source": [
    "%%sql SELECT pname FROM Product\n",
    "ORDER BY Price"
   ]
  },
  {
   "cell_type": "code",
   "execution_count": null,
   "metadata": {},
   "outputs": [],
   "source": [
    "%%sql SELECT pname FROM Product\n",
    "ORDER BY Price"
   ]
  },
  {
   "cell_type": "code",
   "execution_count": null,
   "metadata": {},
   "outputs": [],
   "source": [
    "\n",
    "# Create tables & insert some random numbers\n",
    "# Note: in Postgresql, try the generate_series function...\n",
    "%sql DROP TABLE IF EXISTS R; DROP TABLE IF EXISTS S; DROP TABLE IF EXISTS T;\n",
    "%sql CREATE TABLE R (A int); CREATE TABLE S (A int); CREATE TABLE T (A int);\n",
    "for i in range(1,6):\n",
    "    %sql INSERT INTO R VALUES (:i)\n",
    "for i in range(1,11,3):\n",
    "    %sql INSERT INTO T VALUES (:i)"
   ]
  },
  {
   "cell_type": "code",
   "execution_count": null,
   "metadata": {},
   "outputs": [],
   "source": [
    "%%sql SELECT DISTINCT R.A FROM R, S, T\n",
    "WHERE R.A=S.A OR R.A=T.A"
   ]
  },
  {
   "cell_type": "code",
   "execution_count": null,
   "metadata": {},
   "outputs": [],
   "source": [
    "%sql SELECT DISTINCT R.A FROM R, S, T;"
   ]
  },
  {
   "cell_type": "code",
   "execution_count": null,
   "metadata": {},
   "outputs": [],
   "source": [
    "%%sql\n",
    "SELECT R.A FROM R, S WHERE R.A=S.A\n",
    "UNION -- this is an explicit keyword!\n",
    "SELECT R.A FROM R, T WHERE R.A=T.A"
   ]
  },
  {
   "cell_type": "code",
   "execution_count": null,
   "metadata": {},
   "outputs": [],
   "source": [
    "%sql DROP TABLE IF EXISTS S; CREATE TABLE S (A int);\n",
    "for i in range(1,6):\n",
    "    %sql INSERT INTO S VALUES (:i)"
   ]
  },
  {
   "cell_type": "code",
   "execution_count": null,
   "metadata": {},
   "outputs": [],
   "source": [
    "%%sql\n",
    "-- UNION ALL example- notice that 1 and 4 occur twice!\n",
    "SELECT R.A FROM R, S WHERE R.A=S.A\n",
    "UNION ALL\n",
    "SELECT R.A FROM R, T WHERE R.A=T.A"
   ]
  },
  {
   "cell_type": "code",
   "execution_count": null,
   "metadata": {},
   "outputs": [],
   "source": [
    "%%sql\n",
    "SELECT R.A FROM R, S, T WHERE R.A = S.A\n",
    "INTERSECT\n",
    "SELECT R.A FROM R, S, T WHERE R.A = T.A"
   ]
  },
  {
   "cell_type": "code",
   "execution_count": null,
   "metadata": {},
   "outputs": [],
   "source": [
    "\n",
    "%%sql\n",
    "SELECT R.A FROM R, S, T WHERE R.A = S.A\n",
    "EXCEPT\n",
    "SELECT R.A FROM R, S, T WHERE R.A = T.A"
   ]
  },
  {
   "cell_type": "code",
   "execution_count": null,
   "metadata": {},
   "outputs": [],
   "source": [
    "\n",
    "%%sql \n",
    "SELECT franchise FROM store WHERE location = 'NYC'\n",
    "UNION\n",
    "SELECT franchise FROM store WHERE location = 'PA';"
   ]
  },
  {
   "cell_type": "code",
   "execution_count": null,
   "metadata": {},
   "outputs": [],
   "source": [
    "%%sql\n",
    "SELECT f.db_type\n",
    "FROM franchise f, store s \n",
    "WHERE f.name = s.franchise AND s.location = 'NYC'\n",
    "INTERSECT\n",
    "SELECT f.db_type\n",
    "FROM franchise f, store s \n",
    "WHERE f.name = s.franchise AND s.location = 'PA'"
   ]
  },
  {
   "cell_type": "code",
   "execution_count": null,
   "metadata": {},
   "outputs": [],
   "source": [
    "\n",
    "%%sql \n",
    "SELECT f.name, s.location, f.db_type\n",
    "FROM franchise f, store s \n",
    "WHERE f.name = s.franchise;"
   ]
  },
  {
   "cell_type": "code",
   "execution_count": null,
   "metadata": {},
   "outputs": [],
   "source": [
    "%%sql SELECT f.db_type \n",
    "FROM franchise f, store s \n",
    "WHERE f.name = s.franchise AND s.location = 'NYC'"
   ]
  },
  {
   "cell_type": "code",
   "execution_count": null,
   "metadata": {},
   "outputs": [],
   "source": [
    "\n",
    "%%sql SELECT f.db_type\n",
    "FROM franchise f, store s\n",
    "WHERE f.name = s.franchise AND s.location = 'PA'"
   ]
  },
  {
   "cell_type": "code",
   "execution_count": null,
   "metadata": {},
   "outputs": [],
   "source": [
    "\n",
    "%%sql\n",
    "SELECT f.db_type\n",
    "FROM franchise f\n",
    "WHERE f.name IN (\n",
    "    SELECT s.franchise FROM store s WHERE s.location = 'NYC')\n",
    "  AND f.name IN (\n",
    "    SELECT s.franchise FROM store s WHERE s.location = 'PA');"
   ]
  },
  {
   "cell_type": "code",
   "execution_count": null,
   "metadata": {},
   "outputs": [],
   "source": []
  },
  {
   "cell_type": "code",
   "execution_count": null,
   "metadata": {},
   "outputs": [],
   "source": []
  },
  {
   "cell_type": "code",
   "execution_count": null,
   "metadata": {},
   "outputs": [],
   "source": []
  },
  {
   "cell_type": "code",
   "execution_count": null,
   "metadata": {},
   "outputs": [],
   "source": []
  }
 ],
 "metadata": {
  "kernelspec": {
   "display_name": "Python 3",
   "language": "python",
   "name": "python3"
  },
  "language_info": {
   "codemirror_mode": {
    "name": "ipython",
    "version": 3
   },
   "file_extension": ".py",
   "mimetype": "text/x-python",
   "name": "python",
   "nbconvert_exporter": "python",
   "pygments_lexer": "ipython3",
   "version": "3.7.0"
  }
 },
 "nbformat": 4,
 "nbformat_minor": 4
}
