{
 "cells": [
  {
   "cell_type": "code",
   "execution_count": 3,
   "metadata": {},
   "outputs": [
    {
     "data": {
      "text/plain": [
       "array([[[ 0.8366834 , -0.96683664, -0.78037487, -1.0221227 ],\n",
       "        [ 0.31917005,  1.40829566, -0.77276369,  2.25720763],\n",
       "        [ 1.06166655,  0.91126706,  0.86530742,  0.87679216]],\n",
       "\n",
       "       [[-1.13373374,  0.03980745,  0.72335745, -0.311887  ],\n",
       "        [-0.88158311, -0.73435371, -0.4356313 , -0.8102068 ],\n",
       "        [-0.72584853, -0.34633288, -0.45435068,  1.02756625]]])"
      ]
     },
     "execution_count": 3,
     "metadata": {},
     "output_type": "execute_result"
    }
   ],
   "source": [
    "import numpy as np\n",
    "c=np.random.randn(2,3,4)\n",
    "c"
   ]
  },
  {
   "cell_type": "code",
   "execution_count": 1,
   "metadata": {},
   "outputs": [
    {
     "data": {
      "text/plain": [
       "array([-98.58178276, 305.10994918])"
      ]
     },
     "execution_count": 1,
     "metadata": {},
     "output_type": "execute_result"
    }
   ],
   "source": [
    "import numpy as np\n",
    "def n(x):\n",
    "    return np.dot(np.random.randn(2,3),np.dot(np.random.randn(3,3),x.T))\n",
    "x=np.array([22,35,86])\n",
    "y=n(x)\n",
    "y"
   ]
  },
  {
   "cell_type": "code",
   "execution_count": 12,
   "metadata": {},
   "outputs": [
    {
     "name": "stdout",
     "output_type": "stream",
     "text": [
      "2.3.1\n",
      "tf.Tensor(4.0, shape=(), dtype=float32)\n",
      "4.0\n"
     ]
    }
   ],
   "source": [
    "import tensorflow as tf\n",
    "print(tf.__version__)\n",
    "a=tf.constant(1.0)\n",
    "b=tf.constant(3.0)\n",
    "c=a+b\n",
    "print(c)\n",
    "print(c.numpy())\n",
    "quit()"
   ]
  },
  {
   "cell_type": "code",
   "execution_count": 3,
   "metadata": {},
   "outputs": [
    {
     "name": "stdout",
     "output_type": "stream",
     "text": [
      "tf.Tensor(4, shape=(), dtype=int32)\n"
     ]
    }
   ],
   "source": [
    "import tensorflow as tf\n",
    "rank_0_tensor=tf.constant(4)\n",
    "print(rank_0_tensor)"
   ]
  },
  {
   "cell_type": "code",
   "execution_count": 4,
   "metadata": {},
   "outputs": [
    {
     "name": "stdout",
     "output_type": "stream",
     "text": [
      "tf.Tensor(\n",
      "[[ 1  2  3  4]\n",
      " [ 5  6  7  8]\n",
      " [ 9 10 11 12]\n",
      " [13 14 15 16]], shape=(4, 4), dtype=int32)\n"
     ]
    }
   ],
   "source": [
    "import tensorflow as tf\n",
    "rank_2_tensor=tf.constant([\n",
    "    [1,2,3,4],\n",
    "    [5,6,7,8],\n",
    "    [9,10,11,12],\n",
    "    [13,14,15,16]\n",
    "])\n",
    "print(rank_2_tensor)"
   ]
  },
  {
   "cell_type": "code",
   "execution_count": 7,
   "metadata": {},
   "outputs": [
    {
     "name": "stdout",
     "output_type": "stream",
     "text": [
      "tf.Tensor(\n",
      "[[[ 1  2  3  4  1  1]\n",
      "  [ 5  6  7  8  1  1]\n",
      "  [ 9 10 11 12  1  1]\n",
      "  [13 14 15 16  1  1]\n",
      "  [ 1  1  1  1  1  1]]\n",
      "\n",
      " [[ 1  2  3  4  1  1]\n",
      "  [ 5  6  7  8  1  1]\n",
      "  [ 9 10 11 12  1  1]\n",
      "  [13 14 15 16  1  1]\n",
      "  [ 1  1  1  1  1  1]]\n",
      "\n",
      " [[ 1  2  3  4  1  1]\n",
      "  [ 5  6  7  8  1  1]\n",
      "  [ 9 10 11 12  1  1]\n",
      "  [13 14 15 16  1  1]\n",
      "  [ 1  1  1  1  1  1]]\n",
      "\n",
      " [[ 1  2  3  4  1  1]\n",
      "  [ 5  6  7  8  1  1]\n",
      "  [ 9 10 11 12  1  1]\n",
      "  [13 14 15 16  1  1]\n",
      "  [ 1  1  1  1  1  1]]], shape=(4, 5, 6), dtype=int32)\n"
     ]
    }
   ],
   "source": [
    "import tensorflow as tf\n",
    "rank_3_tensor=tf.constant([\n",
    "    [[1,2,3,4,1,1],\n",
    "     [5,6,7,8,1,1],\n",
    "     [9,10,11,12,1,1],\n",
    "     [13,14,15,16,1,1],\n",
    "     [1,1,1,1,1,1,]],\n",
    "    [[1,2,3,4,1,1],\n",
    "     [5,6,7,8,1,1],\n",
    "     [9,10,11,12,1,1],\n",
    "     [13,14,15,16,1,1],\n",
    "     [1,1,1,1,1,1,]],\n",
    "        [[1,2,3,4,1,1],\n",
    "     [5,6,7,8,1,1],\n",
    "     [9,10,11,12,1,1],\n",
    "     [13,14,15,16,1,1],\n",
    "     [1,1,1,1,1,1,]],\n",
    "        [[1,2,3,4,1,1],\n",
    "     [5,6,7,8,1,1],\n",
    "     [9,10,11,12,1,1],\n",
    "     [13,14,15,16,1,1],\n",
    "     [1,1,1,1,1,1,]]\n",
    "])\n",
    "print(rank_3_tensor)"
   ]
  },
  {
   "cell_type": "code",
   "execution_count": 10,
   "metadata": {},
   "outputs": [
    {
     "name": "stdout",
     "output_type": "stream",
     "text": [
      "tf.Tensor([1 1], shape=(2,), dtype=int64)\n"
     ]
    }
   ],
   "source": [
    "import tensorflow as tf\n",
    "a=tf.constant([[1,2],\n",
    "              [3,4]])\n",
    "print(tf.argmax(a,0))"
   ]
  },
  {
   "cell_type": "code",
   "execution_count": 13,
   "metadata": {},
   "outputs": [
    {
     "data": {
      "text/plain": [
       "<tf.Tensor: shape=(), dtype=float32, numpy=4.7182817>"
      ]
     },
     "execution_count": 13,
     "metadata": {},
     "output_type": "execute_result"
    }
   ],
   "source": [
    "import tensorflow as tf\n",
    "x=tf.constant(1.0)\n",
    "with tf.GradientTape(persistent=True) as t:\n",
    "    t.watch(x)\n",
    "    y=tf.multiply(x,x)+tf.exp(x)\n",
    "dy_dx=t.gradient(y,x)\n",
    "del t\n",
    "dy_dx"
   ]
  },
  {
   "cell_type": "code",
   "execution_count": null,
   "metadata": {},
   "outputs": [],
   "source": []
  }
 ],
 "metadata": {
  "kernelspec": {
   "display_name": "Python 3",
   "language": "python",
   "name": "python3"
  },
  "language_info": {
   "codemirror_mode": {
    "name": "ipython",
    "version": 3
   },
   "file_extension": ".py",
   "mimetype": "text/x-python",
   "name": "python",
   "nbconvert_exporter": "python",
   "pygments_lexer": "ipython3",
   "version": "3.7.0"
  }
 },
 "nbformat": 4,
 "nbformat_minor": 4
}
